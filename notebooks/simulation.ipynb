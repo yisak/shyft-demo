{
 "cells": [
  {
   "cell_type": "markdown",
   "metadata": {},
   "source": [
    "# Simulation\n",
    "## 1 Setting up a simulator using configuration saved on file\n",
    "## 2 Running a simulation\n",
    "## 3 Changing simulation settings\n",
    "### 3.1 Simulation period (Time-axis)\n",
    "### 3.2 Model parameters\n",
    "#### 3.2.1 Region parameters\n",
    "#### 3.2.2 Catchment parameters\n",
    "### 3.3 Initial state\n",
    "#### 3.3.1 Setting spatially invariable state\n",
    "#### 3.3.2 Setting state using a warm-up period\n",
    "## 4 Running a simulation with updated settings\n",
    "## 5 Activating simulation only for selected catchments\n",
    "## 6 Setting a different input dataset (source)\n",
    "## 7 Activating state collection\n",
    "## 8 Extracting results"
   ]
  },
  {
   "cell_type": "code",
   "execution_count": null,
   "metadata": {
    "collapsed": true
   },
   "outputs": [],
   "source": [
    "# Simulation\n",
    "import os\n",
    "\n",
    "from shyft import api\n",
    "from shyft.orchestration.configuration.yaml_configs import YAMLSimConfig\n",
    "from shyft.orchestration.simulators.config_simulator import ConfigSimulator"
   ]
  },
  {
   "cell_type": "code",
   "execution_count": null,
   "metadata": {
    "collapsed": true
   },
   "outputs": [],
   "source": [
    "# 1.Setting up a simulator using configuration saved on file\n",
    "config_dir = \"D:/users/ysa/shyft_config/yaml\"\n",
    "config_file = os.path.join(config_dir, \"simulation_config_calibration-run.yaml\")\n",
    "region_name = \"Nea-Nidelv\"\n",
    "cfg = YAMLSimConfig(config_file, region_name)\n",
    "simulator = ConfigSimulator(cfg)"
   ]
  },
  {
   "cell_type": "code",
   "execution_count": null,
   "metadata": {
    "collapsed": true
   },
   "outputs": [],
   "source": [
    "# 2.Running a simulation\n",
    "region_model_id = simulator.region_model_id\n",
    "interpolation_id = simulator.interpolation_id\n",
    "\n",
    "region_model_repo = simulator.region_model_repository\n",
    "interpolation_param_repo = simulator.ip_repos\n",
    "geo_ts_repo = simulator.geo_ts_repository\n",
    "initial_state_repo = simulator.initial_state_repo\n",
    "\n",
    "geo_ts_names = (\"temperature\", \"wind_speed\", \"precipitation\", \"relative_humidity\", \"radiation\")\n",
    "\n",
    "#region_model = region_model_repo.get_region_model(region_model_id)\n",
    "region_model = simulator.region_model\n",
    "\n",
    "epsg = region_model.bounding_region.epsg()\n",
    "bbox = region_model.bounding_region.bounding_box(epsg)\n",
    "period = region_model.time_axis.total_period()\n",
    "\n",
    "sources = geo_ts_repo.get_timeseries(geo_ts_names, period, geo_location_criteria=bbox)\n",
    "\n",
    "\n",
    "def get_region_env(sources_):\n",
    "    region_env_ = api.ARegionEnvironment()\n",
    "    region_env_.temperature = sources_[\"temperature\"]\n",
    "    region_env_.precipitation = sources_[\"precipitation\"]\n",
    "    region_env_.radiation = sources_[\"radiation\"]\n",
    "    region_env_.wind_speed = sources_[\"wind_speed\"]\n",
    "    region_env_.rel_hum = sources_[\"relative_humidity\"]\n",
    "    return region_env_\n",
    "\n",
    "interpolation_parameters = interpolation_param_repo.get_parameters(interpolation_id)\n",
    "region_env = get_region_env(sources)\n",
    "#region_model.run_interpolation(interpolation_parameters, region_model.time_axis, region_env)\n",
    "region_model.interpolate(interpolation_parameters, region_env)\n",
    "\n",
    "\n",
    "def get_init_state_from_repo(initial_state_repo_, region_model_id_=None, timestamp=None):\n",
    "    state_id = 0\n",
    "    if hasattr(initial_state_repo_, 'n'):  # No stored state, generated on-the-fly\n",
    "        initial_state_repo_.n = region_model.size()\n",
    "    else:\n",
    "        states = initial_state_repo_.find_state(\n",
    "            region_model_id_criteria=region_model_id_,\n",
    "            utc_timestamp_criteria=timestamp)\n",
    "        if len(states) > 0:\n",
    "            state_id = states[0].state_id  # most_recent_state i.e. <= start time\n",
    "        else:\n",
    "            raise Exception('No initial state matching criteria.')\n",
    "    return initial_state_repo_.get_state(state_id)\n",
    "\n",
    "init_state = get_init_state_from_repo(initial_state_repo, region_model_id_=region_model_id, timestamp=region_model.time_axis.start)\n",
    "#region_model.initial_state = init_state\n",
    "region_model.set_states(init_state)\n",
    "region_model.run_cells()\n",
    "\n",
    "# Running a simulation using orchestration function\n",
    "#simulator.run()"
   ]
  },
  {
   "cell_type": "code",
   "execution_count": null,
   "metadata": {
    "collapsed": true
   },
   "outputs": [],
   "source": [
    "# 2.Changing simulation settings\n",
    "# 2.1Simulation period (Time-axis)\n",
    "ta_orig = region_model.time_axis\n",
    "ta_new = api.Timeaxis(ta_orig.start-ta_orig.delta_t*ta_orig.n, ta_orig.delta_t, ta_orig.n)\n",
    "region_model.initialize_cell_environment(ta_new)\n",
    "\n",
    "init_state = get_init_state_from_repo(initial_state_repo, region_model_id_=region_model_id, timestamp=region_model.time_axis.start)\n",
    "region_model.initial_state = init_state"
   ]
  },
  {
   "cell_type": "code",
   "execution_count": null,
   "metadata": {
    "collapsed": true
   },
   "outputs": [],
   "source": [
    "# 2.2Model parameters\n",
    "# 2.2.1Region parameters\n",
    "param_reg = region_model.get_region_parameter()\n",
    "param_reg.gs.tx *= 1.5\n",
    "param_reg_default = region_model.parameter_t()\n",
    "region_model.set_region_parameter(param_reg_default)"
   ]
  },
  {
   "cell_type": "code",
   "execution_count": null,
   "metadata": {
    "collapsed": true
   },
   "outputs": [],
   "source": [
    "# 2.2.2Catchment parameters\n",
    "catch_id = region_model.catchment_id_map[0]\n",
    "region_model.has_catchment_parameter(catch_id)\n",
    "param_reg_default.gs.tx *= 2\n",
    "region_model.set_catchment_parameter(catch_id, param_reg_default)\n",
    "param_catch = region_model.parameter_t(param_reg_default)\n",
    "param_catch.gs.tx *= 2\n",
    "region_model.set_catchment_parameter(catch_id, param_catch)\n",
    "region_model.has_catchment_parameter(catch_id)"
   ]
  },
  {
   "cell_type": "code",
   "execution_count": null,
   "metadata": {
    "collapsed": true
   },
   "outputs": [],
   "source": [
    "# 2.3Initial state\n",
    "# 2.3.1Setting spatially invariable state\n",
    "from shyft.repository.generated_state_repository import GeneratedStateRepository\n",
    "init_values = {'gamma_snow':\n",
    "                   {'acc_melt': 0.0,\n",
    "                    'albedo': 0.65,\n",
    "                    'alpha': 6.25,\n",
    "                    'iso_pot_energy': 0.0,\n",
    "                    'lwc': 0.1,\n",
    "                    'sdc_melt_mean': 0.0,\n",
    "                    'surface_heat': 30000.0,\n",
    "                    'temp_swe': 0.0},\n",
    "              'kirchner':\n",
    "                  {'q': 0.01}\n",
    "              }\n",
    "model_type = region_model.__class__\n",
    "uniform_initial_state_repo = GeneratedStateRepository(model_type, init_values)\n",
    "init_state_uniform = get_init_state_from_repo(uniform_initial_state_repo)\n",
    "region_model.initial_state = init_state_uniform"
   ]
  },
  {
   "cell_type": "code",
   "execution_count": null,
   "metadata": {
    "collapsed": true
   },
   "outputs": [],
   "source": [
    "# 2.3.2Setting state using a warm-up period\n",
    "ta_main_sim = region_model.time_axis\n",
    "cal = api.Calendar()\n",
    "warm_up_period = cal.YEAR\n",
    "ta_warm_up = api.Timeaxis(ta_main_sim.start-cal.YEAR, ta_main_sim.delta_t, int(cal.YEAR/ta_main_sim.delta_t))\n",
    "region_model_warm_up = region_model.__class__(region_model.extract_geo_cell_data(), region_model.get_region_parameter())\n",
    "region_model_warm_up.initialize_cell_environment(ta_warm_up)\n",
    "period = region_model_warm_up.time_axis.total_period()\n",
    "sources = geo_ts_repo.get_timeseries(geo_ts_names, period, geo_location_criteria=bbox)\n",
    "region_env = get_region_env(sources)\n",
    "region_model_warm_up.interpolate(interpolation_parameters, region_env)\n",
    "init_state_for_warm_up = get_init_state_from_repo(uniform_initial_state_repo)\n",
    "region_model_warm_up.set_states(init_state_for_warm_up)\n",
    "region_model_warm_up.run_cells()\n",
    "init_state_from_warm_up = region_model_warm_up.__class__.state_t.vector_t()\n",
    "region_model_warm_up.get_states(init_state_from_warm_up)\n",
    "region_model.initial_state = init_state_from_warm_up"
   ]
  },
  {
   "cell_type": "code",
   "execution_count": null,
   "metadata": {
    "collapsed": true
   },
   "outputs": [],
   "source": [
    "# 3.Running a simulation with updated settings\n",
    "region_model.revert_to_initial_state()\n",
    "region_model.run_cells()"
   ]
  },
  {
   "cell_type": "code",
   "execution_count": null,
   "metadata": {
    "collapsed": true
   },
   "outputs": [],
   "source": [
    "# 4.Activating simulation only for selected catchments\n",
    "catch_ids_active = region_model.catchment_id_map[0:2]\n",
    "region_model.set_catchment_calculation_filter(catch_ids_active)\n",
    "[region_model.is_calculated(cid) for cid in region_model.catchment_id_map]\n",
    "region_model.set_catchment_calculation_filter(region_model.catchment_id_map)"
   ]
  },
  {
   "cell_type": "code",
   "execution_count": null,
   "metadata": {
    "collapsed": true
   },
   "outputs": [],
   "source": [
    "# 5.Setting a different input dataset (source)\n",
    "from shyft.orchestration.configuration.yaml_configs import YamlContent\n",
    "#new_datasets_config_file = <path_to_file>\n",
    "new_datasets_config_file = cfg.datasets_config_file # using same file just as example\n",
    "datasets_config = YamlContent(new_datasets_config_file)\n",
    "geo_ts_repo = YAMLSimConfig.construct_geots_repo(datasets_config, epsg=epsg)"
   ]
  },
  {
   "cell_type": "code",
   "execution_count": null,
   "metadata": {
    "collapsed": true
   },
   "outputs": [],
   "source": [
    "# 6.Activating state collection\n",
    "catch_id_with_state = region_model.catchment_id_map[0]\n",
    "region_model.set_state_collection(catch_id_with_state, True)\n",
    "region_model.set_state_collection(-1, True)"
   ]
  },
  {
   "cell_type": "code",
   "execution_count": null,
   "metadata": {
    "collapsed": true
   },
   "outputs": [],
   "source": [
    "# 7.Extracting results\n",
    "# Refer to separate notebook on data_extraction"
   ]
  }
 ],
 "metadata": {
  "anaconda-cloud": {},
  "kernelspec": {
   "display_name": "Python [default]",
   "language": "python",
   "name": "python3"
  },
  "language_info": {
   "codemirror_mode": {
    "name": "ipython",
    "version": 3
   },
   "file_extension": ".py",
   "mimetype": "text/x-python",
   "name": "python",
   "nbconvert_exporter": "python",
   "pygments_lexer": "ipython3",
   "version": "3.4.5"
  }
 },
 "nbformat": 4,
 "nbformat_minor": 1
}

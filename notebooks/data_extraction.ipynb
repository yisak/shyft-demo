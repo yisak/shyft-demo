{
 "cells": [
  {
   "cell_type": "markdown",
   "metadata": {},
   "source": [
    "# Data extraction\n",
    "## 1Input climate sources (before interpolation)\n",
    "## 2 Cell geo data\n",
    "## 3 Interpolated climate inputs\n",
    "### 3.1 Aggregated over catchments\n",
    "### 3.2 Non-aggregated (at cell level)\n",
    "#### 3.2.1 Timeseries (for all timsteps) at specific cell\n",
    "#### 3.2.2 Raster (for multiple cells) at a specific timestep\n",
    "## 4 Responses\n",
    "### 4.1 Aggregated over catchments\n",
    "### 4.2 Non-aggregated (at cell level)\n",
    "#### 4.2.1 Timeseries (for all timsteps) at specific cell\n",
    "#### 4.2.2 Raster (for all cells or selected cells) at a specific timestep\n",
    "## 5 States\n",
    "### 5.1 Aggregated over catchments\n",
    "### 5.2 Non-aggregated (at cell level)\n",
    "#### 5.2.1 Timeseries (for all timsteps) at specific cell\n",
    "#### 5.2.2 Raster (for all cells or selected cells) at a specific timestep"
   ]
  },
  {
   "cell_type": "code",
   "execution_count": null,
   "metadata": {
    "collapsed": true
   },
   "outputs": [],
   "source": [
    "import numpy as np\n",
    "\n",
    "from shyft.orchestration.configuration.yaml_configs import YAMLSimConfig\n",
    "from shyft.orchestration.simulators.config_simulator import ConfigSimulator"
   ]
  },
  {
   "cell_type": "code",
   "execution_count": null,
   "metadata": {
    "collapsed": true
   },
   "outputs": [],
   "source": [
    "# Setting up a simulator using configuration saved on file\n",
    "config_dir = \"D:/users/ysa/shyft_config/yaml\"\n",
    "config_file = os.path.join(config_dir, \"simulation_config_calibration-run.yaml\")\n",
    "region_name = \"Nea-Nidelv\"\n",
    "cfg = YAMLSimConfig(config_file, region_name)\n",
    "simulator = ConfigSimulator(cfg)"
   ]
  },
  {
   "cell_type": "code",
   "execution_count": null,
   "metadata": {
    "collapsed": true
   },
   "outputs": [],
   "source": [
    "# Running a simulation\n",
    "simulator.run()"
   ]
  },
  {
   "cell_type": "code",
   "execution_count": null,
   "metadata": {
    "collapsed": true
   },
   "outputs": [],
   "source": [
    "# ----------------------------------------------------------------------------------------------------------------------\n",
    "# Catchment index list, source index, time index and cell index used in the data extraction examples below\n",
    "# ----------------------------------------------------------------------------------------------------------------------\n",
    "\n",
    "c_id_map = simulator.region_model.catchment_id_map  # all catchmented IDs in region\n",
    "c_idx_select = c_id_map[0:2]  # selected catchment IDs\n",
    "\n",
    "idx = 0  # idx-th source (for extraction of a specific input source representing a station or a grid point)\n",
    "t_idx = 0  # t_idx-th timestep (for extraction of all or selected cell values at a specific timestep)\n",
    "cell_idx = 0  # cell_tdx-th cell (for extraction of all timesteps at a specific cell)"
   ]
  },
  {
   "cell_type": "code",
   "execution_count": null,
   "metadata": {
    "collapsed": true
   },
   "outputs": [],
   "source": [
    "# ----------------------------------------------------------------------------------------------------------------------\n",
    "# 1 - Input climate sources (before interpolation)\n",
    "# ----------------------------------------------------------------------------------------------------------------------\n",
    "\n",
    "# Get the timeseries for the idx-th precipitation source (station or point)\n",
    "p_src_ts = simulator.region_env.precipitation[idx].ts\n",
    "\n",
    "# Get the timeseries for the idx-th temperature source (station or point)\n",
    "temp_src_ts = simulator.region_env.temperature[idx].ts\n",
    "\n",
    "# Get the timeseries for the idx-th wind_speed source (station or point)\n",
    "ws_src_ts = simulator.region_env.wind_speed[idx].ts\n",
    "\n",
    "# Get the timeseries for the idx-th rel_hum source (station or point)\n",
    "rh_src_ts = simulator.region_env.rel_hum[idx].ts\n",
    "\n",
    "# Get the timeseries for the idx-th radiation source (station or point)\n",
    "rad_src_ts = simulator.region_env.radiation[idx].ts\n",
    "\n",
    "# Get the x, y and z coordinates for the idx-th precipitation source (station or point)\n",
    "p_src_geo_pt = simulator.region_env.precipitation[idx].mid_point()\n",
    "p_src_x, p_src_y, p_src_z = [p_src_geo_pt.x, p_src_geo_pt.y, p_src_geo_pt.z]\n",
    "\n",
    "# Get the number of precipitation sources\n",
    "nb_precip_src = len(simulator.region_env.precipitation)"
   ]
  },
  {
   "cell_type": "code",
   "execution_count": null,
   "metadata": {
    "collapsed": true
   },
   "outputs": [],
   "source": [
    "# ----------------------------------------------------------------------------------------------------------------------\n",
    "# 2 - Cell geo data\n",
    "# ----------------------------------------------------------------------------------------------------------------------\n",
    "\n",
    "# Get the geo data and catchment_ID for all cells\n",
    "#geo_attributes -> ['x', 'y', 'z', 'area', 'catchment_idx', 'radiation_slope_factor',\n",
    "#                  'glacier_fraction', 'lake_fraction', 'reservoir_fraction', 'forest_fraction', 'unknown_fraction']\n",
    "cells = simulator.region_model.cells\n",
    "nb_cells = simulator.region_model.size()  # len(cells)\n",
    "geo_attr = ['x', 'y', 'z', 'area', 'c_idx', 'rsf', 'gf', 'lf', 'rf', 'ff', 'uf']\n",
    "nb_geo_attr = len(geo_attr)\n",
    "cell_geo_data = np.rec.fromrecords(cells.geo_cell_data_vector(cells).to_numpy().reshape(nb_cells, nb_geo_attr),\n",
    "                                    names=','.join(geo_attr))\n",
    "catchment_id = cell_geo_data.c_idx.astype(int)"
   ]
  },
  {
   "cell_type": "code",
   "execution_count": null,
   "metadata": {
    "collapsed": true
   },
   "outputs": [],
   "source": [
    "# ----------------------------------------------------------------------------------------------------------------------\n",
    "# 3 - Interpolated climate inputs\n",
    "# ----------------------------------------------------------------------------------------------------------------------\n",
    "\n",
    "# ----------------------------------------------------------------------------------------------------------------------\n",
    "# 3.1 - Aggregated over catchments\n",
    "# ----------------------------------------------------------------------------------------------------------------------\n",
    "\n",
    "# Get the aggregated precipitation timeseries for the whole region (all catchments)\n",
    "p_agg_all_ts = simulator.region_model.statistics.precipitation([])\n",
    "\n",
    "# Get the aggregated precipitation timeseries for selected catchments\n",
    "p_agg_select_ts = simulator.region_model.statistics.precipitation(c_idx_select)\n",
    "\n",
    "# Get the aggregated temperature timeseries for selected catchments\n",
    "temp_agg_select_ts = simulator.region_model.statistics.temperature(c_idx_select)\n",
    "\n",
    "# Get the aggregated rel_hum timeseries for selected catchments\n",
    "rh_agg_select_ts = simulator.region_model.statistics.rel_hum(c_idx_select)\n",
    "\n",
    "# Get the aggregated wind_speed timeseries for selected catchments\n",
    "ws_agg_select_ts = simulator.region_model.statistics.wind_speed(c_idx_select)\n",
    "\n",
    "# Get the aggregated radiation timeseries for selected catchments\n",
    "rad_agg_select_ts = simulator.region_model.statistics.radiation(c_idx_select)"
   ]
  },
  {
   "cell_type": "code",
   "execution_count": null,
   "metadata": {
    "collapsed": true
   },
   "outputs": [],
   "source": [
    "# ----------------------------------------------------------------------------------------------------------------------\n",
    "# 3.2 - Non-aggregated (at cell level)\n",
    "# ----------------------------------------------------------------------------------------------------------------------\n",
    "\n",
    "# ----------------------------------------------------------------------------------------------------------------------\n",
    "# 3.2.1 - Timeseries (for all timsteps) at specific cell\n",
    "# ----------------------------------------------------------------------------------------------------------------------\n",
    "\n",
    "# Get the precipitation series at the cell_idx-th cell\n",
    "p_cell_ts = simulator.region_model.cells[cell_idx].env_ts.precipitation\n",
    "\n",
    "# Get the temperature series at the cell_idx-th cell\n",
    "temp_cell_ts = simulator.region_model.cells[cell_idx].env_ts.temperature\n",
    "\n",
    "# Get the wind_speed series at the cell_idx-th cell\n",
    "ws_cell_ts = simulator.region_model.cells[cell_idx].env_ts.wind_speed\n",
    "\n",
    "# Get the rel_hum series at the cell_idx-th cell\n",
    "rh_cell_ts = simulator.region_model.cells[cell_idx].env_ts.rel_hum\n",
    "\n",
    "# Get the radiation series at the cell_idx-th cell\n",
    "rad_cell_ts = simulator.region_model.cells[cell_idx].env_ts.radiation"
   ]
  },
  {
   "cell_type": "code",
   "execution_count": null,
   "metadata": {
    "collapsed": true
   },
   "outputs": [],
   "source": [
    "# ----------------------------------------------------------------------------------------------------------------------\n",
    "# 3.2.2 - Raster (for multiple cells) at a specific timestep\n",
    "# ----------------------------------------------------------------------------------------------------------------------\n",
    "\n",
    "# Get the precipitation raster for the whole region (all cells) at the t_idx-th timestep\n",
    "p_rst_all = simulator.region_model.statistics.precipitation([], t_idx)\n",
    "\n",
    "# Get the precipitation raster for selected catchments at the t_idx-th timestep\n",
    "p_rst_select = simulator.region_model.statistics.precipitation(c_idx_select, t_idx)\n",
    "\n",
    "# Get the temperature raster for selected catchments at the t_idx-th timestep\n",
    "temp_rst_select = simulator.region_model.statistics.temperature(c_idx_select, t_idx)\n",
    "\n",
    "# Get the rel_hum raster for selected catchments at the t_idx-th timestep\n",
    "rh_rst_select = simulator.region_model.statistics.rel_hum(c_idx_select, t_idx)\n",
    "\n",
    "# Get the wind_speed raster for selected catchments at the t_idx-th timestep\n",
    "ws_rst_select = simulator.region_model.statistics.wind_speed(c_idx_select, t_idx)\n",
    "\n",
    "# Get the radiation raster for selected catchments at the t_idx-th timestep\n",
    "rad_rst_select = simulator.region_model.statistics.radiation(c_idx_select, t_idx)"
   ]
  },
  {
   "cell_type": "code",
   "execution_count": null,
   "metadata": {
    "collapsed": true
   },
   "outputs": [],
   "source": [
    "# ----------------------------------------------------------------------------------------------------------------------\n",
    "# 4 - Responses\n",
    "# ----------------------------------------------------------------------------------------------------------------------\n",
    "\n",
    "# ----------------------------------------------------------------------------------------------------------------------\n",
    "# 4.1 - Aggregated over catchments\n",
    "# ----------------------------------------------------------------------------------------------------------------------\n",
    "\n",
    "# Get the aggregated discharge timeseries for the whole region (all catchments)\n",
    "Qavg_agg_all_ts = simulator.region_model.statistics.discharge([])\n",
    "\n",
    "# Get the aggregated precipitation timeseries for selected catchments\n",
    "Qavg_agg_select_ts = simulator.region_model.statistics.discharge(c_idx_select)\n",
    "\n",
    "# Get the aggregated potential Evapotranspiration timeseries for selected catchments\n",
    "ETpot_agg_select_ts = simulator.region_model.priestley_taylor_response.output(c_idx_select)\n",
    "\n",
    "# Get the aggregated actual Evapotranspiration timeseries for selected catchments\n",
    "ETact_agg_select_ts = simulator.region_model.actual_evaptranspiration_response.output(c_idx_select)\n",
    "\n",
    "# Get the aggregated snow outflow timeseries for selected catchments\n",
    "sout_agg_select_ts = simulator.region_model.gamma_snow_response.outflow(c_idx_select)\n",
    "\n",
    "# Get the aggregated snow water equivalent timeseries for selected catchments\n",
    "swe_agg_select_ts = simulator.region_model.gamma_snow_response.swe(c_idx_select)\n",
    "\n",
    "# Get the aggregated snow covered area timeseries for selected catchments\n",
    "sca_agg_select_ts = simulator.region_model.gamma_snow_response.sca(c_idx_select)"
   ]
  },
  {
   "cell_type": "code",
   "execution_count": null,
   "metadata": {
    "collapsed": true
   },
   "outputs": [],
   "source": [
    "# ----------------------------------------------------------------------------------------------------------------------\n",
    "# 4.2 - Non-aggregated (at cell level)\n",
    "# ----------------------------------------------------------------------------------------------------------------------\n",
    "\n",
    "# ----------------------------------------------------------------------------------------------------------------------\n",
    "# 4.2.1 - Timeseries (for all timsteps) at specific cell\n",
    "# ----------------------------------------------------------------------------------------------------------------------\n",
    "\n",
    "# Get the discharge timeseries for the cell_idx-th cell\n",
    "Qavg_cell_ts = simulator.region_model.cells[cell_idx].rc.avg_discharge\n",
    "\n",
    "# Get the potential Evapotranspiration timeseries for the cell_idx-th cell\n",
    "ETpot_cell_ts = simulator.region_model.cells[cell_idx].rc.pe_output\n",
    "\n",
    "# Get the actual Evapotranspiration timeseries for the cell_idx-th cell\n",
    "ETact_cell_ts = simulator.region_model.cells[cell_idx].rc.ae_output\n",
    "\n",
    "# Get the snow outflow timeseries for the cell_idx-th cell\n",
    "sout_cell_ts = simulator.region_model.cells[cell_idx].rc.snow_outflow\n",
    "\n",
    "# Get the snow water equivalent timeseries for the cell_idx-th cell\n",
    "swe_cell_ts = simulator.region_model.cells[cell_idx].rc.snow_swe\n",
    "\n",
    "# Get the snow covered area timeseries for the cell_idx-th cell\n",
    "sca_cell_ts = simulator.region_model.cells[cell_idx].rc.snow_sca"
   ]
  },
  {
   "cell_type": "code",
   "execution_count": null,
   "metadata": {
    "collapsed": true
   },
   "outputs": [],
   "source": [
    "# ----------------------------------------------------------------------------------------------------------------------\n",
    "# 4.2.2 - Raster (for all cells or selected cells) at a specific timestep\n",
    "# ----------------------------------------------------------------------------------------------------------------------\n",
    "\n",
    "# Get the discharge raster for the whole region (all catchments)\n",
    "Qavg_all_rst = simulator.region_model.statistics.discharge([], t_idx)\n",
    "\n",
    "# Get the discharge raster for selected catchments at the t_idx-th timestep\n",
    "Qavg_select_rst = simulator.region_model.statistics.discharge(c_idx_select, t_idx)\n",
    "\n",
    "# Get the potential Evapotranspiration raster for selected catchments at the t_idx-th timestep\n",
    "ETpot_select_rst = simulator.region_model.priestley_taylor_response.output(c_idx_select, t_idx)\n",
    "\n",
    "# Get the actual Evapotranspiration raster for selected catchments at the t_idx-th timestep\n",
    "ETact_select_rst = simulator.region_model.actual_evaptranspiration_response.output(c_idx_select, t_idx)\n",
    "\n",
    "# Get the snow outflow raster for selected catchments at the t_idx-th timestep\n",
    "sout_select_rst = simulator.region_model.gamma_snow_response.outflow(c_idx_select, t_idx)\n",
    "\n",
    "# Get the snow water equivalent raster for selected catchments at the t_idx-th timestep\n",
    "swe_select_rst = simulator.region_model.gamma_snow_response.swe(c_idx_select, t_idx)\n",
    "\n",
    "# Get the snow covered area raster for selected catchments at the t_idx-th timestep\n",
    "sca_select_rst = simulator.region_model.gamma_snow_response.sca(c_idx_select, t_idx)"
   ]
  },
  {
   "cell_type": "code",
   "execution_count": null,
   "metadata": {
    "collapsed": true
   },
   "outputs": [],
   "source": [
    "# ----------------------------------------------------------------------------------------------------------------------\n",
    "# 5 - States\n",
    "# ----------------------------------------------------------------------------------------------------------------------\n",
    "\n",
    "# ----------------------------------------------------------------------------------------------------------------------\n",
    "# 5.1 - Aggregated over catchments\n",
    "# ----------------------------------------------------------------------------------------------------------------------\n",
    "\n",
    "# Get the aggregated discharge timeseries for the whole region (all catchments)\n",
    "Qinst_agg_all_ts = simulator.region_model.kirchner_state.discharge([])\n",
    "\n",
    "# Get the aggregated precipitation timeseries for selected catchments\n",
    "Qinst_agg_select_ts = simulator.region_model.kirchner_state.discharge(c_idx_select)\n",
    "\n",
    "# Get the aggregated acc_melt timeseries for selected catchments\n",
    "acc_melt_agg_select_ts = simulator.region_model.gamma_snow_state.acc_melt(c_idx_select)\n",
    "\n",
    "# Get the aggregated albedo timeseries for selected catchments\n",
    "albedo_agg_select_ts = simulator.region_model.gamma_snow_state.albedo(c_idx_select)\n",
    "\n",
    "# Get the aggregated alpha timeseries for selected catchments\n",
    "alpha_agg_select_ts = simulator.region_model.gamma_snow_state.alpha(c_idx_select)\n",
    "\n",
    "# Get the aggregated iso_pot_energy timeseries for selected catchments\n",
    "iso_pot_energy_agg_select_ts = simulator.region_model.gamma_snow_state.iso_pot_energy(c_idx_select)\n",
    "\n",
    "# Get the aggregated lwc timeseries for selected catchments\n",
    "lwc_agg_select_ts = simulator.region_model.gamma_snow_state.lwc(c_idx_select)\n",
    "\n",
    "# Get the aggregated surface_heat timeseries for selected catchments\n",
    "surface_heat_agg_select_ts = simulator.region_model.gamma_snow_state.surface_heat(c_idx_select)\n",
    "\n",
    "# Get the aggregated temp_swe timeseries for selected catchments\n",
    "temp_swe_agg_select_ts = simulator.region_model.gamma_snow_state.temp_swe(c_idx_select)\n",
    "\n",
    "# Get the aggregated sdc_melt_mean timeseries for selected catchments\n",
    "sdc_melt_mean_agg_select_ts = simulator.region_model.gamma_snow_state.sdc_melt_mean(c_idx_select)"
   ]
  },
  {
   "cell_type": "code",
   "execution_count": null,
   "metadata": {
    "collapsed": true
   },
   "outputs": [],
   "source": [
    "# ----------------------------------------------------------------------------------------------------------------------\n",
    "# 5.2 - Non-aggregated (at cell level)\n",
    "# ----------------------------------------------------------------------------------------------------------------------\n",
    "\n",
    "# ----------------------------------------------------------------------------------------------------------------------\n",
    "# 5.2.1 - Timeseries (for all timsteps) at specific cell\n",
    "# ----------------------------------------------------------------------------------------------------------------------\n",
    "\n",
    "# Get the instantaneous discharge timeseries for the cell_idx-th cell\n",
    "Qinst_cell_ts = simulator.region_model.cells[cell_idx].sc.kirchner_discharge\n",
    "\n",
    "# Get the acc_melt timeseries for the cell_idx-th cell\n",
    "acc_melt_cell_ts = simulator.region_model.cells[cell_idx].sc.gs_acc_melt\n",
    "\n",
    "# Get the albedo timeseries for the cell_idx-th cell\n",
    "albedo_cell_ts = simulator.region_model.cells[cell_idx].sc.gs_albedo\n",
    "\n",
    "# Get the alpha timeseries for the cell_idx-th cell\n",
    "alpha_cell_ts = simulator.region_model.cells[cell_idx].sc.gs_alpha\n",
    "\n",
    "# Get the iso_pot_energy timeseries for the cell_idx-th cell\n",
    "iso_pot_energy_cell_ts = simulator.region_model.cells[cell_idx].sc.gs_iso_pot_energy\n",
    "\n",
    "# Get the lwc timeseries for the cell_idx-th cell\n",
    "lwc_cell_ts = simulator.region_model.cells[cell_idx].sc.gs_lwc\n",
    "\n",
    "# Get the sdc_melt_mean timeseries for the cell_idx-th cell\n",
    "sdc_melt_mean_cell_ts = simulator.region_model.cells[cell_idx].sc.gs_sdc_melt_mean\n",
    "\n",
    "# Get the surface_heat timeseries for the cell_idx-th cell\n",
    "surface_heat_cell_ts = simulator.region_model.cells[cell_idx].sc.gs_surface_heat\n",
    "\n",
    "# Get the temp_swe timeseries for the cell_idx-th cell\n",
    "temp_swe_cell_ts = simulator.region_model.cells[cell_idx].sc.gs_temp_swe"
   ]
  },
  {
   "cell_type": "code",
   "execution_count": null,
   "metadata": {
    "collapsed": true
   },
   "outputs": [],
   "source": [
    "# ----------------------------------------------------------------------------------------------------------------------\n",
    "# 5.2.2 - Raster (for all cells or selected cells) at a specific timestep\n",
    "# ----------------------------------------------------------------------------------------------------------------------\n",
    "\n",
    "# Get the discharge raster for the whole region (all catchments)\n",
    "Qinst_all_rst = simulator.region_model.kirchner_state.discharge([], t_idx)\n",
    "\n",
    "# Get the precipitation raster for selected catchments at the t_idx-th timestep\n",
    "Qinst_select_rst = simulator.region_model.kirchner_state.discharge(c_idx_select, t_idx)\n",
    "\n",
    "# Get the acc_melt raster for selected catchments at the t_idx-th timestep\n",
    "acc_melt_select_rst = simulator.region_model.gamma_snow_state.acc_melt(c_idx_select, t_idx)\n",
    "\n",
    "# Get the albedo raster for selected catchments at the t_idx-th timestep\n",
    "albedo_select_rst = simulator.region_model.gamma_snow_state.albedo(c_idx_select, t_idx)\n",
    "\n",
    "# Get the alpha raster for selected catchments at the t_idx-th timestep\n",
    "alpha_select_rst = simulator.region_model.gamma_snow_state.alpha(c_idx_select, t_idx)\n",
    "\n",
    "# Get the iso_pot_energy raster for selected catchments at the t_idx-th timestep\n",
    "iso_pot_energy_select_rst = simulator.region_model.gamma_snow_state.iso_pot_energy(c_idx_select, t_idx)\n",
    "\n",
    "# Get the lwc raster for selected catchments at the t_idx-th timestep\n",
    "lwc_select_rst = simulator.region_model.gamma_snow_state.lwc(c_idx_select, t_idx)\n",
    "\n",
    "# Get the surface_heat raster for selected catchments at the t_idx-th timestep\n",
    "surface_heat_select_rst = simulator.region_model.gamma_snow_state.surface_heat(c_idx_select, t_idx)\n",
    "\n",
    "# Get the temp_swe raster for selected catchments at the t_idx-th timestep\n",
    "temp_swe_select_rst = simulator.region_model.gamma_snow_state.temp_swe(c_idx_select, t_idx)\n",
    "\n",
    "# Get the sdc_melt_mean raster for selected catchments at the t_idx-th timestep\n",
    "sdc_melt_mean_select_rst = simulator.region_model.gamma_snow_state.sdc_melt_mean(c_idx_select, t_idx)"
   ]
  }
 ],
 "metadata": {
  "anaconda-cloud": {},
  "kernelspec": {
   "display_name": "Python [default]",
   "language": "python",
   "name": "python3"
  },
  "language_info": {
   "codemirror_mode": {
    "name": "ipython",
    "version": 3
   },
   "file_extension": ".py",
   "mimetype": "text/x-python",
   "name": "python",
   "nbconvert_exporter": "python",
   "pygments_lexer": "ipython3",
   "version": "3.4.5"
  }
 },
 "nbformat": 4,
 "nbformat_minor": 0
}

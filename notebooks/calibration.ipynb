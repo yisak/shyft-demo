{
 "cells": [
  {
   "cell_type": "markdown",
   "metadata": {},
   "source": [
    "# Calibration\n",
    "## 1 Setting up a calibrator using configuration saved on file\n",
    "## 2 Running a calibration\n",
    "## 3 Changing calibration settings\n",
    "### 3.1 Calibration period (Time-axis)\n",
    "### 3.2 Parameter ranges\n",
    "### 3.3 Initial state\n",
    "### 3.3.1 Setting spatially invariable state\n",
    "### 3.3.2 Setting state using a warm-up period\n",
    "### 3.4 Target series\n",
    "#### 3.4.1 Activating/deactivating target series\n",
    "#### 3.4.2 Changing time-axis (period and/or resolution)\n",
    "## 4 Run a simulation using calibrated parameters\n",
    "### 4.1 Activating cells in  subcatchments not represented by the target series\n",
    "### 4.2 Running using a light-weight model\n",
    "### 4.3 Running using a full model"
   ]
  },
  {
   "cell_type": "code",
   "execution_count": null,
   "metadata": {
    "collapsed": true
   },
   "outputs": [],
   "source": [
    "import os\n",
    "from shyft import api\n",
    "from shyft.orchestration.configuration.yaml_configs import YAMLCalibConfig\n",
    "from shyft.orchestration.simulators.config_simulator import ConfigCalibrator"
   ]
  },
  {
   "cell_type": "code",
   "execution_count": null,
   "metadata": {
    "collapsed": true
   },
   "outputs": [],
   "source": [
    "# 1.Setting up a calibrator using configuration saved on file\n",
    "config_dir = \"D:/users/ysa/shyft_config/yaml\"\n",
    "config_file = os.path.join(config_dir, \"calibration_config.yaml\")\n",
    "region_name = \"Nea-Nidelv\"\n",
    "cfg = YAMLCalibConfig(config_file, region_name)\n",
    "calibrator = ConfigCalibrator(cfg)"
   ]
  },
  {
   "cell_type": "code",
   "execution_count": null,
   "metadata": {
    "collapsed": true
   },
   "outputs": [],
   "source": [
    "# 2.Running a calibration\n",
    "region_model_id = calibrator.region_model_id\n",
    "interpolation_id = calibrator.interpolation_id\n",
    "\n",
    "region_model_repo = calibrator.region_model_repository\n",
    "interpolation_param_repo = calibrator.ip_repos\n",
    "geo_ts_repo = calibrator.geo_ts_repository\n",
    "initial_state_repo = calibrator.initial_state_repo\n",
    "\n",
    "geo_ts_names = (\"temperature\", \"wind_speed\", \"precipitation\", \"relative_humidity\", \"radiation\")\n",
    "\n",
    "#region_model = region_model_repo.get_region_model(region_model_id)\n",
    "region_model = calibrator.region_model\n",
    "optimizer = calibrator.optimizer\n",
    "\n",
    "optim_method_name = calibrator.optim_method\n",
    "optim_method_params = calibrator.optim_method_params\n",
    "param_init = calibrator.p_init\n",
    "\n",
    "optimization_method = {'min_bobyqa': optimizer.optimize,\n",
    "                       'dream': optimizer.optimize_dream,\n",
    "                       'sceua': optimizer.optimize_sceua}\n",
    "\n",
    "epsg = region_model.bounding_region.epsg()\n",
    "bbox = region_model.bounding_region.bounding_box(epsg)\n",
    "period = region_model.time_axis.total_period()\n",
    "\n",
    "sources = geo_ts_repo.get_timeseries(geo_ts_names, period, geo_location_criteria=bbox)\n",
    "\n",
    "\n",
    "def get_region_env(sources_):\n",
    "    region_env_ = api.ARegionEnvironment()\n",
    "    region_env_.temperature = sources_[\"temperature\"]\n",
    "    region_env_.precipitation = sources_[\"precipitation\"]\n",
    "    region_env_.radiation = sources_[\"radiation\"]\n",
    "    region_env_.wind_speed = sources_[\"wind_speed\"]\n",
    "    region_env_.rel_hum = sources_[\"relative_humidity\"]\n",
    "    return region_env_\n",
    "\n",
    "interpolation_parameters = interpolation_param_repo.get_parameters(interpolation_id)\n",
    "region_env = get_region_env(sources)\n",
    "#region_model.run_interpolation(interpolation_parameters, region_model.time_axis, region_env)\n",
    "region_model.interpolate(interpolation_parameters, region_env)\n",
    "\n",
    "\n",
    "def get_init_state_from_repo(initial_state_repo_, region_model_id_=None, timestamp=None):\n",
    "    state_id = 0\n",
    "    if hasattr(initial_state_repo_, 'n'):  # No stored state, generated on-the-fly\n",
    "        initial_state_repo_.n = region_model.size()\n",
    "    else:\n",
    "        states = initial_state_repo_.find_state(\n",
    "            region_model_id_criteria=region_model_id_,\n",
    "            utc_timestamp_criteria=timestamp)\n",
    "        if len(states) > 0:\n",
    "            state_id = states[0].state_id  # most_recent_state i.e. <= start time\n",
    "        else:\n",
    "            raise Exception('No initial state matching criteria.')\n",
    "    return initial_state_repo_.get_state(state_id)\n",
    "\n",
    "init_state = get_init_state_from_repo(initial_state_repo, region_model_id_=region_model_id, timestamp=region_model.time_axis.start)\n",
    "region_model.initial_state = init_state\n",
    "\n",
    "param_init_vct = [param_init.get(i) for i in range(param_init.size())]\n",
    "optim_param_vct = optimization_method[optim_method_name](param_init_vct, **optim_method_params)\n",
    "optim_param = region_model.parameter_t()\n",
    "optim_param.set(optim_param_vct)"
   ]
  },
  {
   "cell_type": "code",
   "execution_count": null,
   "metadata": {
    "collapsed": true
   },
   "outputs": [],
   "source": [
    "# 2.Changing calibration settings\n",
    "# 2.1Calibration period (Time-axis)\n",
    "ta_orig = region_model.time_axis\n",
    "ta_new = api.Timeaxis(ta_orig.start-ta_orig.delta_t*ta_orig.n, ta_orig.delta_t, ta_orig.n)\n",
    "\n",
    "period = ta_new.total_period()\n",
    "sources = geo_ts_repo.get_timeseries(geo_ts_names, period, geo_location_criteria=bbox)\n",
    "region_env = get_region_env(sources)\n",
    "region_model.run_interpolation(interpolation_parameters, ta_new, region_env)\n",
    "init_state = get_init_state_from_repo(initial_state_repo, region_model_id_=region_model_id, timestamp=region_model.time_axis.start)\n",
    "region_model.initial_state = init_state\n",
    "\n",
    "target_spec_vct = calibrator._create_target_specvect()\n",
    "optimizer.target_specification = target_spec_vct"
   ]
  },
  {
   "cell_type": "code",
   "execution_count": null,
   "metadata": {
    "collapsed": true
   },
   "outputs": [],
   "source": [
    "# 2.2Parameter ranges\n",
    "param_min_orig = region_model.parameter_t(optimizer.parameter_lower_bound)\n",
    "param_max_orig = region_model.parameter_t(optimizer.parameter_upper_bound)\n",
    "optimizer.parameter_lower_bound.gs.tx -= 1.\n",
    "optimizer.parameter_upper_bound.gs.tx += 1."
   ]
  },
  {
   "cell_type": "code",
   "execution_count": null,
   "metadata": {
    "collapsed": true
   },
   "outputs": [],
   "source": [
    "# 2.3Initial state\n",
    "# 2.3.1Setting spatially invariable state\n",
    "from shyft.repository.generated_state_repository import GeneratedStateRepository\n",
    "init_values = {'gamma_snow':\n",
    "                   {'acc_melt': 0.0,\n",
    "                    'albedo': 0.65,\n",
    "                    'alpha': 6.25,\n",
    "                    'iso_pot_energy': 0.0,\n",
    "                    'lwc': 0.1,\n",
    "                    'sdc_melt_mean': 0.0,\n",
    "                    'surface_heat': 30000.0,\n",
    "                    'temp_swe': 0.0},\n",
    "              'kirchner':\n",
    "                  {'q': 0.01}\n",
    "              }\n",
    "model_type = region_model.__class__\n",
    "uniform_initial_state_repo = GeneratedStateRepository(model_type, init_values)\n",
    "init_state_uniform = get_init_state_from_repo(uniform_initial_state_repo)\n",
    "region_model.initial_state = init_state_uniform"
   ]
  },
  {
   "cell_type": "code",
   "execution_count": null,
   "metadata": {
    "collapsed": true
   },
   "outputs": [],
   "source": [
    "# 2.3.2Setting state using a warm-up period\n",
    "ta_main_sim = region_model.time_axis\n",
    "cal = api.Calendar()\n",
    "warm_up_period = cal.YEAR\n",
    "ta_warm_up = api.Timeaxis(ta_main_sim.start-cal.YEAR, ta_main_sim.delta_t, int(cal.YEAR/ta_main_sim.delta_t))\n",
    "region_model_warm_up = region_model.__class__(region_model.extract_geo_cell_data(), region_model.get_region_parameter())\n",
    "region_model_warm_up.initialize_cell_environment(ta_warm_up)\n",
    "period = region_model_warm_up.time_axis.total_period()\n",
    "sources = geo_ts_repo.get_timeseries(geo_ts_names, period, geo_location_criteria=bbox)\n",
    "region_env = get_region_env(sources)\n",
    "region_model_warm_up.interpolate(interpolation_parameters, region_env)\n",
    "init_state_for_warm_up = get_init_state_from_repo(uniform_initial_state_repo)\n",
    "region_model_warm_up.set_states(init_state_for_warm_up)\n",
    "region_model_warm_up.run_cells()\n",
    "init_state_from_warm_up = region_model_warm_up.__class__.state_t.vector_t()\n",
    "region_model_warm_up.get_states(init_state_from_warm_up)\n",
    "region_model.initial_state = init_state_from_warm_up"
   ]
  },
  {
   "cell_type": "code",
   "execution_count": null,
   "metadata": {
    "collapsed": true
   },
   "outputs": [],
   "source": [
    "# 2.4Target series\n",
    "# 2.4.1Activating/deactivating target series\n",
    "target_spec_vct_new = api.TargetSpecificationVector()\n",
    "target_spec_vct_orig = optimizer.target_specification\n",
    "target_names_to_exclude = [target_spec_vct_orig[0].uid]\n",
    "[target_spec_vct_new.extend(target) for target in target_spec_vct_orig if target.uid not in target_names_to_exclude]\n",
    "optimizer.target_specification = target_spec_vct_new"
   ]
  },
  {
   "cell_type": "code",
   "execution_count": null,
   "metadata": {
    "collapsed": true
   },
   "outputs": [],
   "source": [
    "# 2.4.2Changing time-axis"
   ]
  },
  {
   "cell_type": "code",
   "execution_count": null,
   "metadata": {
    "collapsed": true
   },
   "outputs": [],
   "source": [
    "# 3.Run a simulation using calibrated parameters\n",
    "# 3.1Activating cells in  subcatchments not represented by the target series"
   ]
  },
  {
   "cell_type": "code",
   "execution_count": null,
   "metadata": {
    "collapsed": true
   },
   "outputs": [],
   "source": [
    "# 3.2Running using a light-weight model"
   ]
  },
  {
   "cell_type": "code",
   "execution_count": null,
   "metadata": {
    "collapsed": true
   },
   "outputs": [],
   "source": [
    "# 3.3Running using a full model"
   ]
  }
 ],
 "metadata": {
  "anaconda-cloud": {},
  "kernelspec": {
   "display_name": "Python [default]",
   "language": "python",
   "name": "python3"
  },
  "language_info": {
   "codemirror_mode": {
    "name": "ipython",
    "version": 3
   },
   "file_extension": ".py",
   "mimetype": "text/x-python",
   "name": "python",
   "nbconvert_exporter": "python",
   "pygments_lexer": "ipython3",
   "version": "3.4.5"
  }
 },
 "nbformat": 4,
 "nbformat_minor": 0
}
